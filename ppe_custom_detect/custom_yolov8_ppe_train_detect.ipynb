{
 "cells": [
  {
   "cell_type": "code",
   "execution_count": null,
   "metadata": {},
   "outputs": [],
   "source": [
    "#Train\n",
    "from ultralytics import YOLO\n",
    "\n",
    "#Load a yolov8s with custom number of classes\n",
    "model = YOLO('./custom_cfg/original_yolov8/custom_yolov8s.yaml')\n",
    "\n",
    "#Load a yolov8s with attention module\n",
    "model = YOLO('./custom_cfg/yolov8_with_attention/custom_yolov8s_add_ca_backbone.yaml')\n",
    "\n",
    "#Load a yolo8s with lightweight architecture\n",
    "model = YOLO('./custom_cfg/yolov8_lightweight/custom_yolov8s_ghost_neck.yaml')\n",
    "\n",
    "#Load a yolov8s with combination of attention module and lightweight architecture\n",
    "model = YOLO('./custom_cfg/yolov8_combined/custom_yolov8s_add_ca_backbone_g_neck.yaml')\n",
    "\n",
    "#Train the model with custom dataset\n",
    "model.train(data='./custom_dataset/custom_ppe_dataset.yaml', epochs=150, imgsz=640, name='train_custom_ppe', deterministic=False, cache=False, seed=10)\n",
    "\n",
    "#Train the model with COCO dataset\n",
    "model.train(data='./ultralytics/cfg/datasets/coco.yaml', epochs=150, imgsz=640, name='train_coco', deterministic=False, cache=False, seed=10)"
   ]
  },
  {
   "cell_type": "code",
   "execution_count": null,
   "metadata": {},
   "outputs": [],
   "source": [
    "#Train\n",
    "from ultralytics import YOLO\n",
    "\n",
    "model = YOLO('./custom_weight/coco_custom_yolov8s_add_ca_backbone_g_neck.pt')\n",
    "\n",
    "#Train the model with custom dataset\n",
    "model.train(data='./custom_dataset/custom_ppe_dataset.yaml', epochs=150, imgsz=640, name='train_custom_ppe', deterministic=False, cache=False, seed=10)"
   ]
  },
  {
   "cell_type": "code",
   "execution_count": null,
   "metadata": {},
   "outputs": [],
   "source": [
    "#Valid/Test\n",
    "from ultralytics import YOLO\n",
    "\n",
    "model = YOLO('./custom_weight/ppe_custom_yolov8s_add_ca_backbone_g_neck.pt')\n",
    "model.val(data='./custom_dataset/custom_ppe_dataset.yaml', batch=1, split='test')"
   ]
  },
  {
   "cell_type": "code",
   "execution_count": null,
   "metadata": {},
   "outputs": [],
   "source": [
    "#Predict\n",
    "from ultralytics import YOLO\n",
    "\n",
    "# Load a pretrained YOLOv8n model\n",
    "model = YOLO('./custom_weight/ppe_custom_yolov8s_add_ca_backbone_g_neck.pt')\n",
    "\n",
    "# Run inference on image with arguments\n",
    "model.predict(\"sample_ppe.jpg\", save=True, imgsz=640, conf=0.5, save_txt=True, line_width=1)"
   ]
  },
  {
   "cell_type": "markdown",
   "metadata": {},
   "source": [
    "In construction sites, fall and injury prevention are crucial to ensure worker safety and minimize serious \n",
    "consequences from fall incidents. This code focuses on empowering construction site safety with portable AI and \n",
    "computer vision for real-time automated detection of personal protective equipment (PPE) usage and fall incidents.  \n",
    "First, we introduce an improved YOLOv8 model for accurate detection of proper usage of PPE (helmet, harness, \n",
    "lanyard) on edge devices. A novel large-scale multi-class PPE dataset is constructed. But, dataset is not open. To achieve a balance between detection accuracy and lightweight design, we improve YOLOv8 by combining the coordinate attention module, \n",
    "ghost convolution module, transfer learning, and merge-non-maximum suppression. \n",
    "YOLOv8 version is Ultralytics-8.0.40. \n",
    "\n",
    "ppe_custom_detect folder\n",
    "- custom_cfg: yolov8's model config yaml file\n",
    "    - original_yolov8 : yolov8 with custom number of classes\n",
    "    - yolov8_combined : improved yolov8 (ca+ghostnet)\n",
    "    - yolov8_etc : some kind of experimental changed yolov8\n",
    "    - yolov8_lightweight : yolov8 for more ligthweight\n",
    "    - yolov8_with_attention : yolov8 with attention module for better accuracy \n",
    "- custom_dataset: custom dataset for PPE detection (helmet, nohelmet, harness, noharness, lanyard)(only sample images of total dataset is stored)\n",
    "    - train, val, test folder\n",
    "    - custom_ppe_dataset.yaml : folder path\n",
    "- custom_weight : model weight file of improved yolov8\n",
    "    - coco_custom_yolov8s_add_ca_backbone_g_neck.pt: improved yolov8 trained by coco dataset\n",
    "    - ppe_custom_yolov8s_add_ca_backbone_g_neck.pt: improved yolov8 trained by custom dataset with transfer learning of coco\n",
    "\n",
    "- custom_yolov8_ppe_train_detect.ipynb : code of how to train, test, and predict\n",
    "- sample_ppe.jpg\n",
    "\n",
    "ultralytics/nn folder\n",
    "- modules.py \n",
    "    - has different kinds of modules which are used in Yolov8. \n",
    "    - You can add or change some modules that you want to utilize. \n",
    "    - For example, I added some of custom modules like FReLU, SE, ECA, and etc. \n",
    "    - If you add some modules in modules.py, you have to add new module name in tasks.py.\n",
    "\n",
    "ultralytics/yolo folder\n",
    "- cfg folder \n",
    "    - It has default.yaml file. \n",
    "    - This file contains default training settings and hyperparameters. \n",
    "    - You can change hyperparameters for training if you want. \n",
    "\n",
    "- utils folder \n",
    "    - Metrics.py has intersection over union function, so you can add other IoU functions in here. \n",
    "        - I added custom IoU functions like SIoU\n",
    "    - Ops.py has nms function, so you can change merged nms in here. \n",
    "        - In line 197, if you set merge=True instead of False, you can use merge-NMS\n",
    "    - Loss.py has bbox loss function, so you can change loss function like CIoU or SIoU. iou = bbox_iou(pred_bboxes[fg_mask], target_bboxes[fg_mask], xywh=False, CIoU=True, SIoU=False, EIoU=False)\n",
    "\n",
    "\n",
    "- yolov8_eigen_cam folder\n",
    "    - yolov8_heatmap.py\n",
    "        - If execute this file in anaconda prompt, it makes visualized images by eigen cam. \n",
    "        - You can change some parameters in get_params() function. \n",
    "\n",
    "    - yolov8_visualize.ipynb\n",
    "        - In this notebook, you can visualize images.\n"
   ]
  }
 ],
 "metadata": {
  "kernelspec": {
   "display_name": "Python 3.9.7 ('base')",
   "language": "python",
   "name": "python3"
  },
  "language_info": {
   "codemirror_mode": {
    "name": "ipython",
    "version": 3
   },
   "file_extension": ".py",
   "mimetype": "text/x-python",
   "name": "python",
   "nbconvert_exporter": "python",
   "pygments_lexer": "ipython3",
   "version": "3.11.9"
  },
  "orig_nbformat": 4,
  "vscode": {
   "interpreter": {
    "hash": "ad2bdc8ecc057115af97d19610ffacc2b4e99fae6737bb82f5d7fb13d2f2c186"
   }
  }
 },
 "nbformat": 4,
 "nbformat_minor": 2
}
